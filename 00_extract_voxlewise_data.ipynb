{
 "cells": [
  {
   "attachments": {},
   "cell_type": "markdown",
   "metadata": {},
   "source": [
    "# Load packages"
   ]
  },
  {
   "cell_type": "code",
   "execution_count": 1,
   "metadata": {},
   "outputs": [],
   "source": [
    "import os\n",
    "from pathlib import Path\n",
    "import numpy as np\n",
    "import pandas as pd\n",
    "import nibabel as nib\n",
    "from scipy.ndimage import gaussian_filter"
   ]
  },
  {
   "attachments": {},
   "cell_type": "markdown",
   "metadata": {},
   "source": [
    "# Set up paths"
   ]
  },
  {
   "cell_type": "code",
   "execution_count": 2,
   "metadata": {},
   "outputs": [],
   "source": [
    "code_dir = Path.cwd()\n",
    "statistics_dir = code_dir.parent\n",
    "input_dir = statistics_dir / \"input\"\n",
    "output_dir = statistics_dir / \"output\""
   ]
  },
  {
   "cell_type": "markdown",
   "metadata": {},
   "source": [
    "# Define functions"
   ]
  },
  {
   "cell_type": "code",
   "execution_count": 8,
   "metadata": {},
   "outputs": [],
   "source": [
    "def extract_voxel_data(ef_path, tmax_path, penumbra_path, infarct_path, subject_id):\n",
    "    # Load the NIfTI files\n",
    "    ef_img = nib.load(ef_path)\n",
    "    tmax_img = nib.load(tmax_path)\n",
    "    penumbra_img = nib.load(penumbra_path)\n",
    "    infarct_img = nib.load(infarct_path)\n",
    "\n",
    "    # Get the data arrays\n",
    "    ef_data = ef_img.get_fdata()\n",
    "    tmax_data = tmax_img.get_fdata()\n",
    "    penumbra_data = penumbra_img.get_fdata()\n",
    "    infarct_data = infarct_img.get_fdata()\n",
    "    \n",
    "    # Smooth the EF and Tmax data\n",
    "    ef_data = gaussian_filter(ef_data, sigma=0.5)\n",
    "    tmax_data = gaussian_filter(tmax_data, sigma=0.5)\n",
    "\n",
    "    # Extract the EF values within the penumbra mask\n",
    "    penumbra_mask = penumbra_data > 0\n",
    "    ef_values = ef_data[penumbra_mask]\n",
    "\n",
    "    # Extract Tmax values within the penumbra mask\n",
    "    tmax_values = tmax_data[penumbra_mask]\n",
    "\n",
    "    # Create the binary variable for the infarct mask\n",
    "    infarct_in_penumbra = infarct_data[penumbra_mask] > 0\n",
    "    binary_values = infarct_in_penumbra.astype(int)\n",
    "\n",
    "    # Create a DataFrame\n",
    "    df = pd.DataFrame({\n",
    "        'sub_id': subject_id,\n",
    "        'ef_value': ef_values,\n",
    "        'tmax_value': tmax_values,\n",
    "        'infarct': binary_values\n",
    "    })\n",
    "\n",
    "    return df"
   ]
  },
  {
   "cell_type": "code",
   "execution_count": 3,
   "metadata": {},
   "outputs": [],
   "source": [
    "def process_subjects(data_dir, subjects):\n",
    "    all_data = []\n",
    "\n",
    "    for subject_id in subjects:\n",
    "        ef_path = os.path.join(data_dir, f'{subject_id}_ses-1_desc-moco_desc-brain_desc-wocsf_EFz.nii.gz')\n",
    "        tmax_path = os.path.join(data_dir, f'{subject_id}_ses-1_desc-moco_desc-brain_desc-wocsf_desc-RAPID_Tmax.nii.gz')\n",
    "        penumbra_path = os.path.join(data_dir, f'{subject_id}_ses-1_desc-RAPID_desc-penumbra_mask.nii.gz')\n",
    "        infarct_path = os.path.join(data_dir, f'{subject_id}_ses-2_space-dsc_desc-lesion_mask.nii.gz')\n",
    "\n",
    "        subject_data = extract_voxel_data(ef_path, tmax_path, penumbra_path, infarct_path, subject_id)\n",
    "        all_data.append(subject_data)\n",
    "\n",
    "    # Concatenate all subject data into a single DataFrame\n",
    "    all_data_df = pd.concat(all_data, ignore_index=True)\n",
    "    return all_data_df"
   ]
  },
  {
   "cell_type": "code",
   "execution_count": 5,
   "metadata": {},
   "outputs": [],
   "source": [
    "def load_subject_ids(file_path):\n",
    "    with open(file_path, 'r') as file:\n",
    "        subjects = file.read().splitlines()\n",
    "    return subjects"
   ]
  },
  {
   "cell_type": "markdown",
   "metadata": {},
   "source": [
    "# Extract voxel-level data"
   ]
  },
  {
   "cell_type": "code",
   "execution_count": 9,
   "metadata": {},
   "outputs": [],
   "source": [
    "data_dir = statistics_dir / 'input/ef_voxelwise'\n",
    "subject_ids_file = output_dir / \"future_infarction_list_failedtmaxreg_ex.txt\"\n",
    "subjects = load_subject_ids(subject_ids_file)\n",
    "df_smoothed = process_subjects(data_dir, subjects)"
   ]
  },
  {
   "cell_type": "markdown",
   "metadata": {},
   "source": [
    "# Save to CSV"
   ]
  },
  {
   "cell_type": "code",
   "execution_count": 10,
   "metadata": {},
   "outputs": [],
   "source": [
    "df_smoothed.to_csv(input_dir / 'ef_tmax_voxel_data_smoothed.csv', index=False)"
   ]
  }
 ],
 "metadata": {
  "kernelspec": {
   "display_name": "brainstats",
   "language": "python",
   "name": "python3"
  },
  "language_info": {
   "codemirror_mode": {
    "name": "ipython",
    "version": 3
   },
   "file_extension": ".py",
   "mimetype": "text/x-python",
   "name": "python",
   "nbconvert_exporter": "python",
   "pygments_lexer": "ipython3",
   "version": "3.12.1"
  },
  "orig_nbformat": 4
 },
 "nbformat": 4,
 "nbformat_minor": 2
}
