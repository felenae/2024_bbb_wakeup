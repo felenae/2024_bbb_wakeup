{
 "cells": [
  {
   "cell_type": "markdown",
   "metadata": {},
   "source": [
    "# Load packages"
   ]
  },
  {
   "cell_type": "code",
   "execution_count": 1,
   "metadata": {},
   "outputs": [],
   "source": [
    "import pandas as pd\n",
    "from pathlib import Path\n",
    "from tableone import TableOne"
   ]
  },
  {
   "cell_type": "markdown",
   "metadata": {},
   "source": [
    "# Set up paths"
   ]
  },
  {
   "cell_type": "code",
   "execution_count": 4,
   "metadata": {},
   "outputs": [],
   "source": [
    "code_dir = Path.cwd()\n",
    "statistics_dir = code_dir.parent\n",
    "source_dir = statistics_dir / \"input\"\n",
    "output_dir = statistics_dir / \"output/tableone\"\n",
    "output_dir.mkdir(exist_ok=True, parents=True)"
   ]
  },
  {
   "cell_type": "markdown",
   "metadata": {},
   "source": [
    "# Load data"
   ]
  },
  {
   "cell_type": "code",
   "execution_count": 5,
   "metadata": {},
   "outputs": [],
   "source": [
    "statistics_df = pd.read_csv(source_dir / 'statistics_df_randomized.csv', index_col = \"sub_id\")\n",
    "pwi_vs_trial_df = pd.read_csv(source_dir / 'pwi_vs_trial_df.csv', index_col = \"sub_id\")"
   ]
  },
  {
   "cell_type": "markdown",
   "metadata": {},
   "source": [
    "### Variable dictionary for symptomatic intracranial hemmorrhage\n",
    "- SAB1 SICH according to SITS-MOST\n",
    "- SAB2 SICH according to ECASS-2\n",
    "- SAB3 SICH according to ECASS-3\n",
    "- SAB4 SICH according to NINDS"
   ]
  },
  {
   "cell_type": "markdown",
   "metadata": {},
   "source": [
    "# Create Table 1"
   ]
  },
  {
   "cell_type": "code",
   "execution_count": null,
   "metadata": {},
   "outputs": [],
   "source": [
    "# Specify columns and categorical variables\n",
    "columns = [\n",
    "    \"AGE\", \n",
    "    \"SEX\", \n",
    "    \"NIHSSSCORE_V00\", \n",
    "    \"Arterial_hypertension\", \n",
    "    \"Hypercholesterolemia\", \n",
    "    \"Diabetes_mellitus_type_II\", \n",
    "    \"Atrial_fibrillation\", \n",
    "    \"Ischemic_stroke\",\n",
    "    \"stroke_volume_v00\",\n",
    "    \"rapid_pwi_volume_v00\",\n",
    "    \"treatment\", \n",
    "    \"LVO_V0\",\n",
    "    \"hemorrhage\",\n",
    "    \"hemorrhage_type_hi1\",\n",
    "    \"hemorrhage_type_hi2\",\n",
    "    \"hemorrhage_type_ph1\",\n",
    "    \"hemorrhage_type_ph2\",\n",
    "    \"hemorrhage_type_other\",\n",
    "    \"SAB1\", \n",
    "    \"SAB2\", \n",
    "    \"SAB3\", \n",
    "    \"SAB4\", \n",
    "    \"excellent_outcome\",\n",
    "    \"NIHSSSCORE_V05\"\n",
    "    ]\n",
    "\n",
    "categorical = [\n",
    "    \"SEX\", \n",
    "    \"Arterial_hypertension\", \n",
    "    \"Hypercholesterolemia\", \n",
    "    \"Diabetes_mellitus_type_II\", \n",
    "    \"Atrial_fibrillation\", \n",
    "    \"Ischemic_stroke\",  \n",
    "    \"treatment\", \n",
    "    \"LVO_V0\",\n",
    "    \"hemorrhage\",\n",
    "    \"hemorrhage_type_hi1\",\n",
    "    \"hemorrhage_type_hi2\",\n",
    "    \"hemorrhage_type_ph1\",\n",
    "    \"hemorrhage_type_ph2\",\n",
    "    \"hemorrhage_type_other\", \n",
    "    \"SAB1\", \n",
    "    \"SAB2\", \n",
    "    \"SAB3\", \n",
    "    \"SAB4\", \n",
    "    \"excellent_outcome\"\n",
    "    ]\n",
    "\n",
    "nonnormal = [\"NIHSSSCORE_V00\", \"NIHSSSCORE_V05\"]\n",
    "\n",
    "# Create Table 1\n",
    "table1 = TableOne(statistics_df, columns=columns, nonnormal=nonnormal, categorical=categorical)\n",
    "\n",
    "# Save Table 1\n",
    "table1.to_csv(output_dir / \"table_1.csv\")\n",
    "\n",
    "# Print Table 1\n",
    "table1"
   ]
  },
  {
   "cell_type": "markdown",
   "metadata": {},
   "source": [
    "# Comparison of perfusion sample with RCT sample"
   ]
  },
  {
   "cell_type": "code",
   "execution_count": null,
   "metadata": {},
   "outputs": [],
   "source": [
    "# Specify columns and categorical variables\n",
    "columns = [\n",
    "    \"AGE\", \n",
    "    \"SEX\", \n",
    "    \"NIHSSSCORE_V00\", \n",
    "    \"Arterial_hypertension\", \n",
    "    \"Hypercholesterolemia\", \n",
    "    \"Diabetes_mellitus_type_II\", \n",
    "    \"Atrial_fibrillation\", \n",
    "    \"Ischemic_stroke\",\n",
    "    \"stroke_volume_v00\",\n",
    "    \"treatment\", \n",
    "    \"LVO_V0\",\n",
    "    \"hemorrhage\",\n",
    "    \"hemorrhage_type_hi1\",\n",
    "    \"hemorrhage_type_hi2\",\n",
    "    \"hemorrhage_type_ph1\",\n",
    "    \"hemorrhage_type_ph2\",\n",
    "    \"hemorrhage_type_other\",\n",
    "    \"SAB1\", \n",
    "    \"SAB2\", \n",
    "    \"SAB3\", \n",
    "    \"SAB4\", \n",
    "    \"excellent_outcome\",\n",
    "    \"NIHSSSCORE_V05\"\n",
    "    ]\n",
    "\n",
    "categorical = [\n",
    "    \"SEX\", \n",
    "    \"Arterial_hypertension\", \n",
    "    \"Hypercholesterolemia\", \n",
    "    \"Diabetes_mellitus_type_II\", \n",
    "    \"Atrial_fibrillation\", \n",
    "    \"Ischemic_stroke\",  \n",
    "    \"treatment\", \n",
    "    \"LVO_V0\",\n",
    "    \"hemorrhage\",\n",
    "    \"hemorrhage_type_hi1\",\n",
    "    \"hemorrhage_type_hi2\",\n",
    "    \"hemorrhage_type_ph1\",\n",
    "    \"hemorrhage_type_ph2\",\n",
    "    \"hemorrhage_type_other\",\n",
    "    \"SAB1\", \n",
    "    \"SAB2\", \n",
    "    \"SAB3\", \n",
    "    \"SAB4\", \n",
    "    \"excellent_outcome\"\n",
    "    ]\n",
    "\n",
    "nonnormal = [\"NIHSSSCORE_V00\", \"NIHSSSCORE_V05\"]\n",
    "\n",
    "# Create Table S1\n",
    "table_s1 = TableOne(pwi_vs_trial_df, columns=columns, categorical=categorical, nonnormal=nonnormal, groupby='pwi_sample', pval=True)\n",
    "\n",
    "# Save Table S1\n",
    "table_s1.to_csv(output_dir / \"table_s1.csv\")\n",
    "\n",
    "# Print Table S1\n",
    "table_s1"
   ]
  }
 ],
 "metadata": {
  "kernelspec": {
   "display_name": "brainstats",
   "language": "python",
   "name": "python3"
  },
  "language_info": {
   "codemirror_mode": {
    "name": "ipython",
    "version": 3
   },
   "file_extension": ".py",
   "mimetype": "text/x-python",
   "name": "python",
   "nbconvert_exporter": "python",
   "pygments_lexer": "ipython3",
   "version": "3.12.1"
  }
 },
 "nbformat": 4,
 "nbformat_minor": 2
}
