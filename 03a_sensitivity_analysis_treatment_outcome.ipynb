{
 "cells": [
  {
   "cell_type": "markdown",
   "metadata": {},
   "source": [
    "# Load packages"
   ]
  },
  {
   "cell_type": "code",
   "execution_count": 1,
   "metadata": {},
   "outputs": [],
   "source": [
    "import numpy as np\n",
    "import pandas as pd\n",
    "from pathlib import Path"
   ]
  },
  {
   "cell_type": "markdown",
   "metadata": {},
   "source": [
    "# Set up R environment"
   ]
  },
  {
   "cell_type": "code",
   "execution_count": null,
   "metadata": {},
   "outputs": [],
   "source": [
    "import os\n",
    "import rpy2.robjects as robjects\n",
    "\n",
    "# Set the R_HOME environment variable\n",
    "os.environ['R_HOME'] = '/usr/lib/R/'\n",
    "\n",
    "# Update the library paths\n",
    "new_path = \"/home/csi/R/x86_64-pc-linux-gnu-library/4.3\"\n",
    "robjects.r(f'.libPaths(c(\"{new_path}\", .libPaths()))')\n"
   ]
  },
  {
   "cell_type": "markdown",
   "metadata": {},
   "source": [
    "# Set up paths"
   ]
  },
  {
   "cell_type": "code",
   "execution_count": 3,
   "metadata": {},
   "outputs": [],
   "source": [
    "code_dir = Path.cwd()\n",
    "statistics_dir = code_dir.parent\n",
    "source_dir = statistics_dir / \"input\"\n",
    "output_dir = statistics_dir / \"output/sensitivity_analysis/treatment\"\n",
    "output_dir.mkdir(exist_ok=True, parents=True)"
   ]
  },
  {
   "cell_type": "markdown",
   "metadata": {},
   "source": [
    "# Load data"
   ]
  },
  {
   "cell_type": "code",
   "execution_count": 4,
   "metadata": {},
   "outputs": [],
   "source": [
    "fip_df = pd.read_csv(source_dir / 'statistics_df_futureinfarction.csv')"
   ]
  },
  {
   "cell_type": "markdown",
   "metadata": {},
   "source": [
    "# Future-infarction Penumbra: Voxel-wise analysis"
   ]
  },
  {
   "cell_type": "code",
   "execution_count": null,
   "metadata": {},
   "outputs": [],
   "source": [
    "# Prepare dataframe\n",
    "fip_df_placebo = fip_df[fip_df['treatment'] == 0]\n",
    "fip_df_treatment = fip_df[fip_df['treatment'] == 1]\n",
    "\n",
    "# Z-score age, stroke volume, NIHSS, EF and Tmax\n",
    "columns_to_normalize = ['AGE', 'stroke_volume_v00', 'NIHSSSCORE_V00', 'ef_value', 'tmax_value']\n",
    "fip_df_placebo[columns_to_normalize] = fip_df[columns_to_normalize].apply(lambda x: (x - x.mean()) / x.std())\n",
    "fip_df_treatment[columns_to_normalize] = fip_df[columns_to_normalize].apply(lambda x: (x - x.mean()) / x.std())"
   ]
  },
  {
   "cell_type": "markdown",
   "metadata": {},
   "source": [
    "## Infarct ~ EF: Placebo"
   ]
  },
  {
   "cell_type": "code",
   "execution_count": null,
   "metadata": {},
   "outputs": [],
   "source": [
    "from pymer4.models import Lmer\n",
    "\n",
    "# Define model\n",
    "model = Lmer(\"infarct ~ ef_value + AGE + SEX + NIHSSSCORE_V00 + stroke_volume_v00 + (ef_value|sub_id) + (ef_value|scanner)\", data=fip_df_placebo, family=\"binomial\")\n",
    "\n",
    "# Fit LMM \n",
    "lme = model.fit(fold_optimizer=True)\n",
    "lme.to_csv(output_dir / \"penumbra_voxelwise_lme.csv\")\n",
    "print(lme)\n",
    "\n",
    "# Get ANOVA table\n",
    "anova = model.anova()\n",
    "anova.to_csv(output_dir / \"penumbra_voxelwise_anova.csv\")\n",
    "anova\n",
    "\n",
    "# Save fitted values\n",
    "fip_df_placebo['infarct_fitted_ef'] = model.fits"
   ]
  },
  {
   "cell_type": "markdown",
   "metadata": {},
   "source": [
    "## Infarct ~ EF: Treatment"
   ]
  },
  {
   "cell_type": "code",
   "execution_count": null,
   "metadata": {},
   "outputs": [],
   "source": [
    "from pymer4.models import Lmer\n",
    "\n",
    "# Define model\n",
    "model = Lmer(\"infarct ~ ef_value + AGE + SEX + NIHSSSCORE_V00 + stroke_volume_v00 + (ef_value|sub_id) + (ef_value|scanner)\", data=fip_df_treatment, family=\"binomial\")\n",
    "\n",
    "# Fit LMM \n",
    "lme = model.fit(fold_optimizer=True)\n",
    "lme.to_csv(output_dir / \"penumbra_voxelwise_treatment_lme.csv\")\n",
    "print(lme)\n",
    "\n",
    "# Get ANOVA table\n",
    "anova = model.anova()\n",
    "anova.to_csv(output_dir / \"penumbra_voxelwise_treatment_anova.csv\")\n",
    "anova\n",
    "\n",
    "# Save fitted values\n",
    "fip_df_treatment['infarct_fitted_ef'] = model.fits"
   ]
  },
  {
   "cell_type": "markdown",
   "metadata": {},
   "source": [
    "## Infarct ~ EF + Tmax: Placebo"
   ]
  },
  {
   "cell_type": "code",
   "execution_count": null,
   "metadata": {},
   "outputs": [],
   "source": [
    "from pymer4.models import Lmer\n",
    "\n",
    "# Define model\n",
    "model = Lmer(\"infarct ~ ef_value + tmax_value + AGE + SEX + NIHSSSCORE_V00 + stroke_volume_v00 + (ef_value + tmax_value|sub_id) + (ef_value + tmax_value|scanner)\", data=fip_df_placebo, family=\"binomial\")\n",
    "\n",
    "# Fit LMM \n",
    "lme = model.fit(fold_optimizer=True)\n",
    "lme.to_csv(output_dir / \"penumbra_voxelwise_ef_tmax_placebo_lme.csv\")\n",
    "print(lme)\n",
    "\n",
    "# Get ANOVA table\n",
    "anova = model.anova()\n",
    "anova.to_csv(output_dir / \"penumbra_voxelwise_ef_tmax_placebo_anova.csv\")\n",
    "anova\n",
    "\n",
    "# Save fitted values\n",
    "fip_df_placebo['infarct_fitted_ef_tmax'] = model.fits"
   ]
  },
  {
   "cell_type": "markdown",
   "metadata": {},
   "source": [
    "## Infarct ~ EF + Tmax: Treatment"
   ]
  },
  {
   "cell_type": "code",
   "execution_count": null,
   "metadata": {},
   "outputs": [],
   "source": [
    "from pymer4.models import Lmer\n",
    "\n",
    "# Define model\n",
    "model = Lmer(\"infarct ~ ef_value + tmax_value + AGE + SEX + NIHSSSCORE_V00 + stroke_volume_v00 + (ef_value + tmax_value|sub_id) + (ef_value + tmax_value|scanner)\", data=fip_df_treatment, family=\"binomial\")\n",
    "\n",
    "# Fit LMM \n",
    "lme = model.fit(fold_optimizer=True)\n",
    "lme.to_csv(output_dir / \"penumbra_voxelwise_ef_tmax_treatment_lme.csv\")\n",
    "print(lme)\n",
    "\n",
    "# Get ANOVA table\n",
    "anova = model.anova()\n",
    "anova.to_csv(output_dir / \"penumbra_voxelwise_ef_tmax_treatment_anova.csv\")\n",
    "anova\n",
    "\n",
    "# Save fitted values\n",
    "fip_df_treatment['infarct_fitted_ef_tmax'] = model.fits"
   ]
  },
  {
   "cell_type": "markdown",
   "metadata": {},
   "source": [
    "## Infarct ~ Tmax: Placebo"
   ]
  },
  {
   "cell_type": "code",
   "execution_count": null,
   "metadata": {},
   "outputs": [],
   "source": [
    "from pymer4.models import Lmer\n",
    "\n",
    "# Define model\n",
    "model = Lmer(\"infarct ~ tmax_value + AGE + SEX + NIHSSSCORE_V00 + stroke_volume_v00 + (tmax_value|sub_id) + (tmax_value|scanner)\", data=fip_df_placebo, family=\"binomial\")\n",
    "\n",
    "# Fit LMM \n",
    "lme = model.fit(fold_optimizer=True)\n",
    "lme.to_csv(output_dir / \"penumbra_voxelwise_tmax_placebo_lme.csv\")\n",
    "print(lme)\n",
    "\n",
    "# Get ANOVA table\n",
    "anova = model.anova()\n",
    "anova.to_csv(output_dir / \"penumbra_voxelwise_tmax_placebo_anova.csv\")\n",
    "anova\n",
    "\n",
    "# Save fitted values\n",
    "fip_df_placebo['infarct_fitted_tmax'] = model.fits"
   ]
  },
  {
   "cell_type": "markdown",
   "metadata": {},
   "source": [
    "## Infarct ~ Tmax: Treatment"
   ]
  },
  {
   "cell_type": "code",
   "execution_count": null,
   "metadata": {},
   "outputs": [],
   "source": [
    "from pymer4.models import Lmer\n",
    "\n",
    "# Define model\n",
    "model = Lmer(\"infarct ~ tmax_value + AGE + SEX + NIHSSSCORE_V00 + stroke_volume_v00 + (tmax_value|sub_id) + (tmax_value|scanner)\", data=fip_df_treatment, family=\"binomial\")\n",
    "\n",
    "# Fit LMM \n",
    "lme = model.fit(fold_optimizer=True)\n",
    "lme.to_csv(output_dir / \"penumbra_voxelwise_tmax_treatment_lme.csv\")\n",
    "print(lme)\n",
    "\n",
    "# Get ANOVA table\n",
    "anova = model.anova()\n",
    "anova.to_csv(output_dir / \"penumbra_voxelwise_tmax_treatment_anova.csv\")\n",
    "anova\n",
    "\n",
    "# Save fitted values\n",
    "fip_df_treatment['infarct_fitted_tmax'] = model.fits"
   ]
  }
 ],
 "metadata": {
  "kernelspec": {
   "display_name": "brainstats",
   "language": "python",
   "name": "python3"
  },
  "language_info": {
   "codemirror_mode": {
    "name": "ipython",
    "version": 3
   },
   "file_extension": ".py",
   "mimetype": "text/x-python",
   "name": "python",
   "nbconvert_exporter": "python",
   "pygments_lexer": "ipython3",
   "version": "3.12.1"
  }
 },
 "nbformat": 4,
 "nbformat_minor": 2
}
