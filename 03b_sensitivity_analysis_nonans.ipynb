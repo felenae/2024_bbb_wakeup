{
 "cells": [
  {
   "cell_type": "markdown",
   "metadata": {},
   "source": [
    "# Load packages"
   ]
  },
  {
   "cell_type": "code",
   "execution_count": 1,
   "metadata": {},
   "outputs": [],
   "source": [
    "import numpy as np\n",
    "import pandas as pd\n",
    "from pathlib import Path"
   ]
  },
  {
   "cell_type": "markdown",
   "metadata": {},
   "source": [
    "# Set up paths"
   ]
  },
  {
   "cell_type": "code",
   "execution_count": 3,
   "metadata": {},
   "outputs": [],
   "source": [
    "code_dir = Path.cwd()\n",
    "statistics_dir = code_dir.parent\n",
    "source_dir = statistics_dir / \"input\"\n",
    "output_dir = statistics_dir / \"output/sensitivity_analysis/nonans\"\n",
    "output_dir.mkdir(exist_ok=True, parents=True)"
   ]
  },
  {
   "cell_type": "markdown",
   "metadata": {},
   "source": [
    "# Load data"
   ]
  },
  {
   "cell_type": "code",
   "execution_count": 4,
   "metadata": {},
   "outputs": [],
   "source": [
    "statistics_df = pd.read_csv(source_dir / 'statistics_df_randomized.csv', index_col = \"sub_id\")"
   ]
  },
  {
   "cell_type": "markdown",
   "metadata": {},
   "source": [
    "# Set up R environment"
   ]
  },
  {
   "cell_type": "code",
   "execution_count": null,
   "metadata": {},
   "outputs": [],
   "source": [
    "import os\n",
    "import rpy2.robjects as robjects\n",
    "\n",
    "# Set the R_HOME environment variable\n",
    "os.environ['R_HOME'] = '/usr/lib/R/'\n",
    "\n",
    "# Update the library paths\n",
    "new_path = \"/home/csi/R/x86_64-pc-linux-gnu-library/4.3\"\n",
    "robjects.r(f'.libPaths(c(\"{new_path}\", .libPaths()))')\n"
   ]
  },
  {
   "cell_type": "markdown",
   "metadata": {},
   "source": [
    "# Linear mixed effects models comparing BBB leakage between lesion, penumbra and normal tissue"
   ]
  },
  {
   "cell_type": "code",
   "execution_count": null,
   "metadata": {},
   "outputs": [],
   "source": [
    "from pymer4.models import Lmer\n",
    "\n",
    "# Prepare dataframe\n",
    "repeatead_measures = ['nice_normal_z_ef','nice_penumbra_z_ef','nice_lesion_z_ef']\n",
    "df_lme = pd.melt(statistics_df.reset_index().dropna(subset=repeatead_measures), \n",
    "                 id_vars=['sub_id','AGE', 'SEX', 'NIHSSSCORE_V00', 'stroke_volume_v00', 'scanner'], \n",
    "                 value_vars=repeatead_measures, \n",
    "                 var_name=\"loc_measurement\", \n",
    "                 value_name=\"EF\", ignore_index=False).reset_index(drop=True)\n",
    "\n",
    "# Z-score age, stroke volume, NIHSS and EF\n",
    "columns_to_normalize = ['AGE', 'stroke_volume_v00', 'NIHSSSCORE_V00', 'EF']\n",
    "df_lme[columns_to_normalize] = df_lme[columns_to_normalize].apply(lambda x: (x - x.mean()) / x.std())\n",
    "\n",
    "# Initialize model instance using 1 predictor with random intercepts and slopes\n",
    "model = Lmer(\"EF ~ loc_measurement + AGE + SEX + NIHSSSCORE_V00 + stroke_volume_v00 + (1|sub_id) + (1|scanner)\", data=df_lme)\n",
    "\n",
    "# Fit LMM \n",
    "lme = model.fit(factors={\"loc_measurement\": ['nice_normal_z_ef','nice_lesion_z_ef', 'nice_penumbra_z_ef']})\n",
    "lme.to_csv(output_dir / \"lesion_penumbra_normal_lme.csv\")\n",
    "print(lme)\n",
    "\n",
    "# Get ANOVA table\n",
    "anova = model.anova()\n",
    "anova.to_csv(output_dir / \"lesion_penumbra_normal_anova.csv\")\n",
    "anova"
   ]
  },
  {
   "cell_type": "code",
   "execution_count": null,
   "metadata": {},
   "outputs": [],
   "source": [
    "# Compute post-hoc tests\n",
    "marginal_estimates, comparisons = model.post_hoc(marginal_vars=\"loc_measurement\", grouping_vars=\"loc_measurement\")\n",
    "\n",
    "# \"Cell\" means of the ANOVA\n",
    "comparisons.to_csv(output_dir/\"lesion_penumbra_normal_posthoc.csv\")\n",
    "print(comparisons)\n"
   ]
  },
  {
   "cell_type": "code",
   "execution_count": null,
   "metadata": {},
   "outputs": [],
   "source": [
    "repeatead_measures = ['nice_penumbra_noinfarct_z_ef', 'nice_penumbra_infarct_z_ef']\n",
    "statistics_df[repeatead_measures].describe()"
   ]
  },
  {
   "cell_type": "markdown",
   "metadata": {},
   "source": [
    "## Visualization"
   ]
  },
  {
   "cell_type": "code",
   "execution_count": 17,
   "metadata": {},
   "outputs": [],
   "source": [
    "location_styled = [\n",
    "    'Normal Tissue',\n",
    "    'Penumbra (Tmax>6s)',\n",
    "    'Ischemic Core'\n",
    "]\n",
    "\n",
    "ef_styled = ['EF (z-scored)']"
   ]
  },
  {
   "cell_type": "code",
   "execution_count": null,
   "metadata": {},
   "outputs": [],
   "source": [
    "import matplotlib.pyplot as plt\n",
    "import seaborn as sns\n",
    "\n",
    "repeatead_measures = ['nice_normal_z_ef','nice_penumbra_z_ef','nice_lesion_z_ef']\n",
    "df_lme = pd.melt(statistics_df.reset_index().dropna(subset=repeatead_measures), \n",
    "                 id_vars=['sub_id','AGE', 'SEX', 'NIHSSSCORE_V00', 'stroke_volume_v00', 'scanner'], \n",
    "                 value_vars=repeatead_measures, \n",
    "                 var_name=\"loc_measurement\", \n",
    "                 value_name=\"EF\", ignore_index=False).reset_index(drop=True)\n",
    "\n",
    "custom_palette = sns.color_palette(\"Paired\")\n",
    "\n",
    "\n",
    "plt.figure(figsize=(8, 6))\n",
    "sns.boxplot(y='EF', x='loc_measurement', data=df_lme, width=0.5, palette=custom_palette, boxprops=dict(alpha=0.7), showfliers=False)\n",
    "sns.stripplot(y='EF', x='loc_measurement', data=df_lme, color='black', size=3, jitter=True, alpha=0.6)\n",
    "\n",
    "# Annotations for significance\n",
    "y_max = df_lme['EF'].max()\n",
    "y_step = y_max * 0.12  # Calculate step size for annotations based on the maximum EF value\n",
    "\n",
    "# Ensure the calculation of 'y' is correct by explicitly converting 'i' and 'y_step' to compatible types\n",
    "for i, row in comparisons.iterrows():\n",
    "    groups = row['Contrast'].split(' - ')\n",
    "    p_value = row['P-val']\n",
    "    \n",
    "    # Assuming group names in 'loc_measurement' match those in 'Comparison'\n",
    "    group_labels = df_lme['loc_measurement'].unique().tolist()\n",
    "    x1 = group_labels.index(groups[0])\n",
    "    x2 = group_labels.index(groups[1])\n",
    "    \n",
    "    # Correctly calculate 'y' by ensuring 'i' and 'y_step' are compatible types\n",
    "    y = y_max + ((float(i)) * y_step)  # Added (i+1) to ensure spacing starts above the max value\n",
    "    \n",
    "    # Adjust 'p_text' based on your significance criteria\n",
    "    p_text = '***' if p_value < 0.001 else '**' if p_value < 0.01 else '*' if p_value < 0.05 else 'ns'\n",
    "    \n",
    "    plt.plot([x1, x1, x2, x2], [y - y_step/4, y, y, y - y_step/4], lw=1.5, c='black')\n",
    "    plt.text((x1 + x2) * 0.5, y, p_text, ha='center', va='bottom')\n",
    "\n",
    "\n",
    "plt.xticks(ticks=np.arange(len(location_styled)), labels=location_styled, size=10)\n",
    "plt.xlabel('')\n",
    "plt.ylabel('EF (z-scored)')\n",
    "\n",
    "plt.savefig(output_dir/\"boxplot_lesion_penumbra_normal_ef.png\", dpi=300)\n"
   ]
  },
  {
   "cell_type": "markdown",
   "metadata": {},
   "source": [
    "# Linear mixed effects models comparing BBB leakage within the perfusion deficit"
   ]
  },
  {
   "cell_type": "code",
   "execution_count": null,
   "metadata": {},
   "outputs": [],
   "source": [
    "from pymer4.models import Lmer\n",
    "\n",
    "# Prepare dataframe\n",
    "statistics_df_clean = statistics_df.dropna(subset=['nice_penumbra_z_ef'])\n",
    "repeatead_measures = ['nice_tmax6_z_ef','nice_tmax8_z_ef', 'nice_tmax10_z_ef']\n",
    "df_lme = pd.melt(statistics_df_clean.reset_index().dropna(subset=repeatead_measures), \n",
    "                 id_vars=['sub_id','AGE', 'SEX', 'NIHSSSCORE_V00', 'stroke_volume_v00', 'scanner'], \n",
    "                 value_vars=repeatead_measures, \n",
    "                 var_name=\"loc_measurement\", \n",
    "                 value_name=\"EF\", ignore_index=False).reset_index(drop=True)\n",
    "\n",
    "# Z-score age, stroke volume, NIHSS and EF\n",
    "columns_to_normalize = ['AGE', 'stroke_volume_v00', 'NIHSSSCORE_V00', 'EF']\n",
    "df_lme[columns_to_normalize] = df_lme[columns_to_normalize].apply(lambda x: (x - x.mean()) / x.std())\n",
    "\n",
    "# Define model\n",
    "model = Lmer(\"EF ~ loc_measurement + AGE + SEX + NIHSSSCORE_V00 + stroke_volume_v00 + (1|sub_id) + (1|scanner)\", data=df_lme)\n",
    "\n",
    "# Fit LMM \n",
    "lme = model.fit(factors={\"loc_measurement\": ['nice_tmax6_z_ef','nice_tmax8_z_ef', 'nice_tmax10_z_ef']})\n",
    "lme.to_csv(output_dir / \"perfdef_lme.csv\")\n",
    "print(lme)\n",
    "\n",
    "# Get ANOVA table\n",
    "anova = model.anova()\n",
    "anova.to_csv(output_dir / \"perfdef_anova.csv\")\n",
    "anova"
   ]
  },
  {
   "cell_type": "code",
   "execution_count": null,
   "metadata": {},
   "outputs": [],
   "source": [
    "# Compute post-hoc tests\n",
    "marginal_estimates, comparisons = model.post_hoc(marginal_vars=\"loc_measurement\", grouping_vars=\"loc_measurement\")\n",
    "\n",
    "# \"Cell\" means of the ANOVA\n",
    "comparisons.to_csv(output_dir/\"perfdef_posthoc.csv\")\n",
    "print(comparisons)\n"
   ]
  },
  {
   "cell_type": "code",
   "execution_count": 21,
   "metadata": {},
   "outputs": [],
   "source": [
    "location_styled = [\n",
    "    'Tmax 6-8s',\n",
    "    'Tmax 8-10s',\n",
    "    'Tmax >/=10s'\n",
    "]\n",
    "\n",
    "ef_styled = ['EF (z-scored)']"
   ]
  },
  {
   "cell_type": "code",
   "execution_count": null,
   "metadata": {},
   "outputs": [],
   "source": [
    "import matplotlib.pyplot as plt\n",
    "import seaborn as sns\n",
    "\n",
    "statistics_df_clean = statistics_df.dropna(subset=['nice_penumbra_z_ef'])\n",
    "repeatead_measures = ['nice_tmax6_z_ef','nice_tmax8_z_ef', 'nice_tmax10_z_ef']\n",
    "df_lme = pd.melt(statistics_df_clean.reset_index().dropna(subset=repeatead_measures), \n",
    "                 id_vars=['sub_id','AGE', 'SEX', 'NIHSSSCORE_V00', 'stroke_volume_v00', 'scanner'], \n",
    "                 value_vars=repeatead_measures, \n",
    "                 var_name=\"loc_measurement\", \n",
    "                 value_name=\"EF\", ignore_index=False).reset_index(drop=True)\n",
    "\n",
    "custom_palette = sns.color_palette(\"Paired\")\n",
    "\n",
    "\n",
    "plt.figure(figsize=(8, 6))\n",
    "sns.boxplot(y='EF', x='loc_measurement', data=df_lme, width=0.5, palette=custom_palette, boxprops=dict(alpha=0.7), showfliers=False)\n",
    "sns.stripplot(y='EF', x='loc_measurement', data=df_lme, color='black', size=3, jitter=True, alpha=0.6)\n",
    "\n",
    "# Annotations for significance\n",
    "y_max = df_lme['EF'].max()\n",
    "y_step = y_max * 0.12  # Calculate step size for annotations based on the maximum EF value\n",
    "\n",
    "# Ensure the calculation of 'y' is correct by explicitly converting 'i' and 'y_step' to compatible types\n",
    "for i, row in comparisons.iterrows():\n",
    "    groups = row['Contrast'].split(' - ')\n",
    "    p_value = row['P-val']\n",
    "    \n",
    "    # Assuming group names in 'loc_measurement' match those in 'Comparison'\n",
    "    group_labels = df_lme['loc_measurement'].unique().tolist()\n",
    "    x1 = group_labels.index(groups[0])\n",
    "    x2 = group_labels.index(groups[1])\n",
    "    \n",
    "    # Correctly calculate 'y' by ensuring 'i' and 'y_step' are compatible types\n",
    "    y = y_max + ((float(i)) * y_step)  # Added (i+1) to ensure spacing starts above the max value\n",
    "    \n",
    "    # Adjust 'p_text' based on your significance criteria\n",
    "    p_text = '***' if p_value < 0.001 else '**' if p_value < 0.01 else '*' if p_value < 0.05 else 'ns'\n",
    "    \n",
    "    plt.plot([x1, x1, x2, x2], [y - y_step/4, y, y, y - y_step/4], lw=1.5, c='black')\n",
    "    plt.text((x1 + x2) * 0.5, y, p_text, ha='center', va='bottom')\n",
    "\n",
    "\n",
    "plt.xticks(ticks=np.arange(len(location_styled)), labels=location_styled, size=10)\n",
    "plt.xlabel('')\n",
    "plt.ylabel('EF (z-scored)')\n",
    "\n",
    "plt.savefig(output_dir/\"boxplot_perfdef_ef.png\", dpi=300)\n"
   ]
  },
  {
   "cell_type": "markdown",
   "metadata": {},
   "source": [
    "# Linear mixed effects models comparing BBB leakage  within penumbra according to future infarction; controlling for Tmax and treatment"
   ]
  },
  {
   "cell_type": "code",
   "execution_count": 6,
   "metadata": {},
   "outputs": [],
   "source": [
    "# EF dataframe\n",
    "statistics_df_clean = statistics_df.dropna(subset=['nice_penumbra_noinfarct_z_ef', 'nice_penumbra_infarct_z_ef', 'nice_penumbra_noinfarct_mean_tmax_rapid', 'nice_penumbra_infarct_mean_tmax_rapid'])\n",
    "repeatead_measures = ['nice_penumbra_noinfarct_z_ef', 'nice_penumbra_infarct_z_ef']\n",
    "df_ef = pd.melt(statistics_df_clean.reset_index(), \n",
    "                 id_vars=['sub_id','AGE', 'SEX', 'NIHSSSCORE_V00', 'stroke_volume_v00', 'treatment', 'scanner'], \n",
    "                 value_vars=repeatead_measures, \n",
    "                 var_name=\"loc_measurement\", \n",
    "                 value_name=\"EF\", ignore_index=False).reset_index(drop=True)\n",
    "df_ef['loc_measurement'] = df_ef['loc_measurement'].apply(lambda x: x.split('_')[2])\n",
    "\n",
    "# Tmax dataframe\n",
    "tmax = ['nice_penumbra_noinfarct_mean_tmax_rapid', 'nice_penumbra_infarct_mean_tmax_rapid']\n",
    "df_tmax = pd.melt(statistics_df_clean.reset_index(), \n",
    "                 id_vars='sub_id',\n",
    "                    value_vars=tmax,\n",
    "                    var_name='loc_measurement',\n",
    "                    value_name='Tmax', ignore_index=False).reset_index(drop=True)\n",
    "\n",
    "# Rename values of loc_measurement by splitting the string\n",
    "df_tmax['loc_measurement'] = df_tmax['loc_measurement'].apply(lambda x: x.split('_')[2])\n",
    "\n",
    "# Merge EF and Tmax dataframes\n",
    "df_lme = pd.merge(df_ef, df_tmax, on=['sub_id', 'loc_measurement'])\n",
    "\n",
    "# Z-score age, stroke volume, NIHSS and EF\n",
    "columns_to_normalize = ['AGE', 'stroke_volume_v00', 'NIHSSSCORE_V00', 'EF']\n",
    "df_lme[columns_to_normalize] = df_lme[columns_to_normalize].apply(lambda x: (x - x.mean()) / x.std())"
   ]
  },
  {
   "cell_type": "code",
   "execution_count": null,
   "metadata": {},
   "outputs": [],
   "source": [
    "from pymer4.models import Lmer\n",
    "\n",
    "# Define model\n",
    "model = Lmer(\"EF ~ loc_measurement + Tmax + AGE + SEX + NIHSSSCORE_V00 + stroke_volume_v00 + treatment + (1|sub_id) + (1|scanner)\", data=df_lme)\n",
    "\n",
    "# Fit LMM \n",
    "lme = model.fit(factors={\"loc_measurement\": ['noinfarct', 'infarct']})\n",
    "lme.to_csv(output_dir / \"penumbra_adjusted_lme.csv\")\n",
    "print(lme)\n",
    "\n",
    "# Get ANOVA table\n",
    "anova = model.anova()\n",
    "anova.to_csv(output_dir / \"penumbra_adjusted_anova.csv\")\n",
    "anova"
   ]
  },
  {
   "cell_type": "code",
   "execution_count": null,
   "metadata": {},
   "outputs": [],
   "source": [
    "# Compute post-hoc tests\n",
    "marginal_estimates, comparisons = model.post_hoc(marginal_vars=\"loc_measurement\", grouping_vars=\"loc_measurement\")\n",
    "\n",
    "# \"Cell\" means of the ANOVA\n",
    "comparisons.to_csv(output_dir/\"penumbra_adjusted_posthoc.csv\")\n",
    "print(comparisons)\n"
   ]
  },
  {
   "cell_type": "markdown",
   "metadata": {},
   "source": [
    "## Visualization"
   ]
  },
  {
   "cell_type": "code",
   "execution_count": null,
   "metadata": {},
   "outputs": [],
   "source": [
    "location_styled = [\n",
    "    'Salvaged Penumbra', \n",
    "    'Infarcted Penumbra'\n",
    "]\n",
    "\n",
    "ef_styled = ['EF (z-scored)']"
   ]
  },
  {
   "cell_type": "code",
   "execution_count": null,
   "metadata": {},
   "outputs": [],
   "source": [
    "import matplotlib.pyplot as plt\n",
    "import seaborn as sns\n",
    "\n",
    "statistics_df_clean = statistics_df.dropna(subset=['nice_penumbra_z_ef'])\n",
    "repeatead_measures = ['nice_penumbra_noinfarct_z_ef', 'nice_penumbra_infarct_z_ef']\n",
    "df_lme = pd.melt(statistics_df_clean.reset_index(), \n",
    "                 id_vars=['sub_id','AGE', 'SEX', 'NIHSSSCORE_V00', 'stroke_volume_v00', 'scanner'], \n",
    "                 value_vars=repeatead_measures, \n",
    "                 var_name=\"loc_measurement\", \n",
    "                 value_name=\"EF\", ignore_index=False).reset_index(drop=True)\n",
    "\n",
    "df_lme['loc_measurement'] = df_lme['loc_measurement'].apply(lambda x: x.split('_')[2])\n",
    "\n",
    "custom_palette = sns.color_palette(\"Paired\")\n",
    "\n",
    "plt.figure(figsize=(8, 6))\n",
    "sns.boxplot(y='EF', x='loc_measurement', data=df_lme, width=0.5, palette=custom_palette, boxprops=dict(alpha=0.7), showfliers=False)\n",
    "sns.stripplot(y='EF', x='loc_measurement', data=df_lme, color='black', size=3, jitter=True, alpha=0.6)\n",
    "\n",
    "# Annotations for significance\n",
    "y_max = df_lme['EF'].max()\n",
    "y_step = y_max * 0.12  # Calculate step size for annotations based on the maximum EF value\n",
    "\n",
    "# Ensure the calculation of 'y' is correct by explicitly converting 'i' and 'y_step' to compatible types\n",
    "for i, row in comparisons.iterrows():\n",
    "    groups = row['Contrast'].split(' - ')\n",
    "    p_value = row['P-val']\n",
    "    \n",
    "    # Assuming group names in 'loc_measurement' match those in 'Comparison'\n",
    "    group_labels = df_lme['loc_measurement'].unique().tolist()\n",
    "    x1 = group_labels.index(groups[0])\n",
    "    x2 = group_labels.index(groups[1])\n",
    "    \n",
    "    # Correctly calculate 'y' by ensuring 'i' and 'y_step' are compatible types\n",
    "    y = y_max + ((float(i)) * y_step)  # Added (i+1) to ensure spacing starts above the max value\n",
    "    \n",
    "    # Adjust 'p_text' based on your significance criteria\n",
    "    p_text = '***' if p_value < 0.001 else '**' if p_value < 0.01 else '*' if p_value < 0.05 else 'ns'\n",
    "    \n",
    "    plt.plot([x1, x1, x2, x2], [y - y_step/4, y, y, y - y_step/4], lw=1.5, c='black')\n",
    "    plt.text((x1 + x2) * 0.5, y, p_text, ha='center', va='bottom')\n",
    "\n",
    "\n",
    "plt.xticks(ticks=np.arange(len(location_styled)), labels=location_styled, size=10)\n",
    "plt.xlabel('')\n",
    "plt.ylabel('EF (z-scored)')\n",
    "\n",
    "plt.savefig(output_dir/\"boxplot_penumbra_adjusted_ef.png\", dpi=300)\n"
   ]
  }
 ],
 "metadata": {
  "kernelspec": {
   "display_name": "brainstats",
   "language": "python",
   "name": "python3"
  },
  "language_info": {
   "codemirror_mode": {
    "name": "ipython",
    "version": 3
   },
   "file_extension": ".py",
   "mimetype": "text/x-python",
   "name": "python",
   "nbconvert_exporter": "python",
   "pygments_lexer": "ipython3",
   "version": "3.12.1"
  }
 },
 "nbformat": 4,
 "nbformat_minor": 2
}
